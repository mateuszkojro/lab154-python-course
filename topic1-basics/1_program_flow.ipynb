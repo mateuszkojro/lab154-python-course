{
 "cells": [
  {
   "cell_type": "markdown",
   "id": "beb87fcc",
   "metadata": {},
   "source": [
    "# C++ 2 Python dictionary pt. 1 \n",
    "## Defining variables\n",
    "\n",
    "```c++\n",
    "std::string text = \"C++ is a rely usefull language\";\n",
    "bool boolean = true;\n",
    "int whole_number = 1;\n",
    "double fraction = 12.31;\n",
    "```"
   ]
  },
  {
   "cell_type": "code",
   "execution_count": 1,
   "id": "0154e424",
   "metadata": {},
   "outputs": [],
   "source": [
    "text = \"str in 🐍\" # supports UTF-8\n",
    "alsso_text = 'abc' # `'` also used for strings not chars\n",
    "boolean = True;\n",
    "whole_number = 1 # can be arbitrarly big\n",
    "fraction = 2.32\n",
    "empty = None # in python every variable can be empty - `None`"
   ]
  },
  {
   "cell_type": "markdown",
   "id": "2f8ce8e8",
   "metadata": {},
   "source": [
    "## If statments\n",
    "\n",
    "```c++\n",
    "double number = 2.72;\n",
    "if (number == 3.14) {\n",
    "    std::cout << \"pi\" << std::end;\n",
    "} else if (number == 2.72) {\n",
    "    std::cout << \"e\" << std::endl;\n",
    "} else {\n",
    "    std::cout << \"other\" << std::endl;\n",
    "}\n",
    "```"
   ]
  },
  {
   "cell_type": "code",
   "execution_count": 2,
   "id": "cc759dda",
   "metadata": {},
   "outputs": [
    {
     "name": "stdout",
     "output_type": "stream",
     "text": [
      "e\n"
     ]
    }
   ],
   "source": [
    "number = 2.72\n",
    "if number == 3.13:\n",
    "    print(\"pi\")\n",
    "elif number == 2.72:\n",
    "    print(\"e\")\n",
    "else:\n",
    "    print(\"other\")"
   ]
  },
  {
   "cell_type": "markdown",
   "id": "815faa42",
   "metadata": {},
   "source": [
    "In python instead of `{}` indentation is used to create scopes "
   ]
  },
  {
   "cell_type": "markdown",
   "id": "6dbc00dc",
   "metadata": {},
   "source": [
    "## Basic loops\n",
    "\n",
    "```c++\n",
    "for (size_t i = 0; i < 3; i++) {\n",
    "    std::cout << \"i=\" << i << std::endl;\n",
    "}\n",
    "```\n",
    "\n",
    "```c++\n",
    "int i = 0;\n",
    "while (i < 3) {\n",
    "    std::cout << \"i=\" << i << std::endl;\n",
    "    i++;\n",
    "}\n",
    "```"
   ]
  },
  {
   "cell_type": "code",
   "execution_count": 3,
   "id": "71373c41",
   "metadata": {},
   "outputs": [
    {
     "name": "stdout",
     "output_type": "stream",
     "text": [
      "i=0\n",
      "i=1\n",
      "i=2\n"
     ]
    }
   ],
   "source": [
    "for i in range(3):\n",
    "    print(\"i=\" + str(i))"
   ]
  },
  {
   "cell_type": "code",
   "execution_count": 4,
   "id": "5512af11",
   "metadata": {},
   "outputs": [
    {
     "name": "stdout",
     "output_type": "stream",
     "text": [
      "i=0\n",
      "i=1\n",
      "i=2\n"
     ]
    }
   ],
   "source": [
    "i = 0\n",
    "while i < 3:\n",
    "    print(\"i=\" + str(i))\n",
    "    i += 1"
   ]
  },
  {
   "cell_type": "markdown",
   "id": "87a7cf4a",
   "metadata": {},
   "source": [
    "## Basic containers\n",
    "\n",
    "```c++\n",
    "std::vector<int> = {1,2,3};\n",
    "```"
   ]
  },
  {
   "cell_type": "code",
   "execution_count": 5,
   "id": "9030c110",
   "metadata": {
    "scrolled": true
   },
   "outputs": [
    {
     "data": {
      "text/plain": [
       "[1, 2, 3]"
      ]
     },
     "execution_count": 5,
     "metadata": {},
     "output_type": "execute_result"
    }
   ],
   "source": [
    "array = [1,2,3]\n",
    "array"
   ]
  },
  {
   "cell_type": "markdown",
   "id": "2e713297",
   "metadata": {},
   "source": [
    "In python arrays can hold different types at the same time:"
   ]
  },
  {
   "cell_type": "code",
   "execution_count": 6,
   "id": "398b0b64",
   "metadata": {},
   "outputs": [
    {
     "data": {
      "text/plain": [
       "[1, True, 'aaa']"
      ]
     },
     "execution_count": 6,
     "metadata": {},
     "output_type": "execute_result"
    }
   ],
   "source": [
    "array = [1, True, \"aaa\"]\n",
    "array"
   ]
  },
  {
   "cell_type": "markdown",
   "id": "9526efce",
   "metadata": {},
   "source": [
    "C++ would use `std::tuple` for that:\n",
    "```c++\n",
    "std::set<int, std::string, float> set = {1, \"aa\", 0.2};\n",
    "```\n",
    "\n",
    "In python `tuple` is inmutable (cannot be changed):"
   ]
  },
  {
   "cell_type": "code",
   "execution_count": 7,
   "id": "c2d64c8d",
   "metadata": {},
   "outputs": [
    {
     "data": {
      "text/plain": [
       "(1, 'aa', 0.2)"
      ]
     },
     "execution_count": 7,
     "metadata": {},
     "output_type": "execute_result"
    }
   ],
   "source": [
    "example_tuple = (1, \"aa\", 0.2)\n",
    "# `example_tuple[1] = 2` would raise an error\n",
    "example_tuple"
   ]
  },
  {
   "cell_type": "markdown",
   "id": "c6a81317",
   "metadata": {},
   "source": [
    "```c++\n",
    "std::map<std::string, int> map = {\"a\":1, \"b\":2}; \n",
    "```"
   ]
  },
  {
   "cell_type": "markdown",
   "id": "e77e26ce",
   "metadata": {},
   "source": [
    "In python maps are called dictionaries"
   ]
  },
  {
   "cell_type": "code",
   "execution_count": 8,
   "id": "f61629cd",
   "metadata": {},
   "outputs": [
    {
     "name": "stdout",
     "output_type": "stream",
     "text": [
      "1\n"
     ]
    }
   ],
   "source": [
    "dictionary = {\"a\" : 1, \"b\" : 2}\n",
    "print(dictionary[\"a\"])"
   ]
  },
  {
   "cell_type": "markdown",
   "id": "3485f357",
   "metadata": {},
   "source": [
    "## Iterators"
   ]
  },
  {
   "cell_type": "markdown",
   "id": "cd7293aa",
   "metadata": {},
   "source": [
    "```c++\n",
    "std::vector<int> array = {1,2,3};\n",
    "for (auto elem : array) {\n",
    "    std::cout << \"elem=\" << elem << std::endl;\n",
    "}\n",
    "```"
   ]
  },
  {
   "cell_type": "code",
   "execution_count": 9,
   "id": "d3b2dadb",
   "metadata": {},
   "outputs": [
    {
     "name": "stdout",
     "output_type": "stream",
     "text": [
      "elem=1\n",
      "elem=2\n",
      "elem=3\n"
     ]
    }
   ],
   "source": [
    "array = [1,2,3]\n",
    "for elem in array:\n",
    "    print(\"elem=\" + str(elem))"
   ]
  },
  {
   "cell_type": "code",
   "execution_count": 10,
   "id": "e3221c18",
   "metadata": {},
   "outputs": [
    {
     "name": "stdout",
     "output_type": "stream",
     "text": [
      "yey\n"
     ]
    }
   ],
   "source": [
    "if 1 in array:\n",
    "    print(\"yey\")\n",
    "else:\n",
    "    print(\"boo\")"
   ]
  },
  {
   "cell_type": "markdown",
   "id": "23271ee7",
   "metadata": {},
   "source": [
    "## Exceptions\n",
    "```c++\n",
    "try {\n",
    "    throw std::runtime_error(\"some error\");\n",
    "} catch(std::exception& exception) {\n",
    "    std::cout << \"Error: \" << exception.what() << std::endl;\n",
    "}\n",
    "```"
   ]
  },
  {
   "cell_type": "code",
   "execution_count": 11,
   "id": "7acc4700",
   "metadata": {},
   "outputs": [
    {
     "name": "stdout",
     "output_type": "stream",
     "text": [
      "Error: some error\n"
     ]
    }
   ],
   "source": [
    "try:\n",
    "    raise ValueError(\"some error\")\n",
    "except Exception as exception:\n",
    "    print(\"Error: \" + str(exception))"
   ]
  },
  {
   "cell_type": "markdown",
   "id": "67f53b83",
   "metadata": {},
   "source": [
    "## Functions\n",
    "```c++\n",
    "int AddNumbers(int a, int b) {\n",
    "    return a + b;\n",
    "}\n",
    "\n",
    "AddNumbers(2,2);\n",
    "```"
   ]
  },
  {
   "cell_type": "code",
   "execution_count": 12,
   "id": "c1e2e2cc",
   "metadata": {},
   "outputs": [
    {
     "data": {
      "text/plain": [
       "4"
      ]
     },
     "execution_count": 12,
     "metadata": {},
     "output_type": "execute_result"
    }
   ],
   "source": [
    "def add_numbers(a, b):\n",
    "    return a + b\n",
    "\n",
    "add_numbers(2, 2)"
   ]
  },
  {
   "cell_type": "markdown",
   "id": "e1dda542",
   "metadata": {},
   "source": [
    "## Program setup\n",
    "```c++\n",
    "int main() {\n",
    "    return 0;\n",
    "}\n",
    "```"
   ]
  },
  {
   "cell_type": "code",
   "execution_count": 13,
   "id": "2805cb3d",
   "metadata": {},
   "outputs": [],
   "source": [
    "def main_function():\n",
    "    # due to the fact that scopes are based on indentation \n",
    "    # in python we use pass to mark an empty function\n",
    "    pass\n",
    "\n",
    "if __name__ == \"__main__\":\n",
    "    main_function()"
   ]
  },
  {
   "cell_type": "markdown",
   "id": "e9a54e34",
   "metadata": {},
   "source": [
    "## Some additiional resources\n",
    "\n",
    "[1] W3 schools tutorial is a bit verbose but should be verry simple <https://www.w3schools.com/python/python_intro.asp>\n",
    "\n",
    "[2] Official python docs are great but sometimes can be a bit scarry for beginners: <https://docs.python.org/3/> "
   ]
  },
  {
   "cell_type": "code",
   "execution_count": null,
   "id": "0a0e9ad3",
   "metadata": {},
   "outputs": [],
   "source": []
  }
 ],
 "metadata": {
  "kernelspec": {
   "display_name": "Python 3 (ipykernel)",
   "language": "python",
   "name": "python3"
  },
  "language_info": {
   "codemirror_mode": {
    "name": "ipython",
    "version": 3
   },
   "file_extension": ".py",
   "mimetype": "text/x-python",
   "name": "python",
   "nbconvert_exporter": "python",
   "pygments_lexer": "ipython3",
   "version": "3.10.10"
  }
 },
 "nbformat": 4,
 "nbformat_minor": 5
}
